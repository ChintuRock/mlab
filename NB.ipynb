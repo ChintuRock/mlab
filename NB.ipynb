{
 "cells": [
  {
   "cell_type": "code",
   "execution_count": 74,
   "id": "079b139b",
   "metadata": {},
   "outputs": [],
   "source": [
    "import pandas as pd\n",
    "import numpy as np\n",
    "from sklearn import preprocessing\n",
    "from sklearn.naive_bayes import MultinomialNB\n",
    "from sklearn.metrics import accuracy_score, classification_report\n",
    "from sklearn.model_selection import train_test_split\n",
    "from sklearn.metrics import roc_curve"
   ]
  },
  {
   "cell_type": "code",
   "execution_count": 75,
   "id": "e4a76c9f",
   "metadata": {},
   "outputs": [
    {
     "data": {
      "text/html": [
       "<div>\n",
       "<style scoped>\n",
       "    .dataframe tbody tr th:only-of-type {\n",
       "        vertical-align: middle;\n",
       "    }\n",
       "\n",
       "    .dataframe tbody tr th {\n",
       "        vertical-align: top;\n",
       "    }\n",
       "\n",
       "    .dataframe thead th {\n",
       "        text-align: right;\n",
       "    }\n",
       "</style>\n",
       "<table border=\"1\" class=\"dataframe\">\n",
       "  <thead>\n",
       "    <tr style=\"text-align: right;\">\n",
       "      <th></th>\n",
       "      <th>no</th>\n",
       "      <th>pc</th>\n",
       "      <th>wbc</th>\n",
       "      <th>mc</th>\n",
       "      <th>ast</th>\n",
       "      <th>bc</th>\n",
       "      <th>ldh</th>\n",
       "      <th>diagnosis</th>\n",
       "    </tr>\n",
       "  </thead>\n",
       "  <tbody>\n",
       "    <tr>\n",
       "      <th>0</th>\n",
       "      <td>1</td>\n",
       "      <td>Low</td>\n",
       "      <td>Low</td>\n",
       "      <td>Low</td>\n",
       "      <td>High</td>\n",
       "      <td>Normal</td>\n",
       "      <td>Normal</td>\n",
       "      <td>True</td>\n",
       "    </tr>\n",
       "    <tr>\n",
       "      <th>1</th>\n",
       "      <td>2</td>\n",
       "      <td>Low</td>\n",
       "      <td>Low</td>\n",
       "      <td>Normal</td>\n",
       "      <td>High</td>\n",
       "      <td>Normal</td>\n",
       "      <td>High</td>\n",
       "      <td>True</td>\n",
       "    </tr>\n",
       "    <tr>\n",
       "      <th>2</th>\n",
       "      <td>3</td>\n",
       "      <td>Low</td>\n",
       "      <td>High</td>\n",
       "      <td>Normal</td>\n",
       "      <td>High</td>\n",
       "      <td>Normal</td>\n",
       "      <td>Normal</td>\n",
       "      <td>False</td>\n",
       "    </tr>\n",
       "    <tr>\n",
       "      <th>3</th>\n",
       "      <td>4</td>\n",
       "      <td>Low</td>\n",
       "      <td>High</td>\n",
       "      <td>Normal</td>\n",
       "      <td>High</td>\n",
       "      <td>High</td>\n",
       "      <td>Normal</td>\n",
       "      <td>True</td>\n",
       "    </tr>\n",
       "    <tr>\n",
       "      <th>4</th>\n",
       "      <td>5</td>\n",
       "      <td>Low</td>\n",
       "      <td>Normal</td>\n",
       "      <td>High</td>\n",
       "      <td>High</td>\n",
       "      <td>Normal</td>\n",
       "      <td>Normal</td>\n",
       "      <td>False</td>\n",
       "    </tr>\n",
       "    <tr>\n",
       "      <th>5</th>\n",
       "      <td>6</td>\n",
       "      <td>Low</td>\n",
       "      <td>Normal</td>\n",
       "      <td>Normal</td>\n",
       "      <td>High</td>\n",
       "      <td>Normal</td>\n",
       "      <td>High</td>\n",
       "      <td>True</td>\n",
       "    </tr>\n",
       "    <tr>\n",
       "      <th>6</th>\n",
       "      <td>7</td>\n",
       "      <td>Normal</td>\n",
       "      <td>Low</td>\n",
       "      <td>Low</td>\n",
       "      <td>High</td>\n",
       "      <td>Normal</td>\n",
       "      <td>Normal</td>\n",
       "      <td>True</td>\n",
       "    </tr>\n",
       "    <tr>\n",
       "      <th>7</th>\n",
       "      <td>8</td>\n",
       "      <td>Normal</td>\n",
       "      <td>High</td>\n",
       "      <td>Normal</td>\n",
       "      <td>High</td>\n",
       "      <td>Normal</td>\n",
       "      <td>Normal</td>\n",
       "      <td>False</td>\n",
       "    </tr>\n",
       "    <tr>\n",
       "      <th>8</th>\n",
       "      <td>9</td>\n",
       "      <td>Normal</td>\n",
       "      <td>High</td>\n",
       "      <td>Normal</td>\n",
       "      <td>High</td>\n",
       "      <td>High</td>\n",
       "      <td>High</td>\n",
       "      <td>True</td>\n",
       "    </tr>\n",
       "    <tr>\n",
       "      <th>9</th>\n",
       "      <td>10</td>\n",
       "      <td>Normal</td>\n",
       "      <td>Normal</td>\n",
       "      <td>High</td>\n",
       "      <td>High</td>\n",
       "      <td>Normal</td>\n",
       "      <td>Normal</td>\n",
       "      <td>False</td>\n",
       "    </tr>\n",
       "    <tr>\n",
       "      <th>10</th>\n",
       "      <td>11</td>\n",
       "      <td>Normal</td>\n",
       "      <td>Normal</td>\n",
       "      <td>High</td>\n",
       "      <td>High</td>\n",
       "      <td>Normal</td>\n",
       "      <td>High</td>\n",
       "      <td>True</td>\n",
       "    </tr>\n",
       "    <tr>\n",
       "      <th>11</th>\n",
       "      <td>12</td>\n",
       "      <td>High</td>\n",
       "      <td>Low</td>\n",
       "      <td>Low</td>\n",
       "      <td>Normal</td>\n",
       "      <td>Normal</td>\n",
       "      <td>Normal</td>\n",
       "      <td>True</td>\n",
       "    </tr>\n",
       "    <tr>\n",
       "      <th>12</th>\n",
       "      <td>13</td>\n",
       "      <td>High</td>\n",
       "      <td>Normal</td>\n",
       "      <td>High</td>\n",
       "      <td>Normal</td>\n",
       "      <td>Normal</td>\n",
       "      <td>Normal</td>\n",
       "      <td>False</td>\n",
       "    </tr>\n",
       "    <tr>\n",
       "      <th>13</th>\n",
       "      <td>14</td>\n",
       "      <td>High</td>\n",
       "      <td>Normal</td>\n",
       "      <td>High</td>\n",
       "      <td>Normal</td>\n",
       "      <td>High</td>\n",
       "      <td>High</td>\n",
       "      <td>True</td>\n",
       "    </tr>\n",
       "    <tr>\n",
       "      <th>14</th>\n",
       "      <td>15</td>\n",
       "      <td>High</td>\n",
       "      <td>High</td>\n",
       "      <td>Normal</td>\n",
       "      <td>Normal</td>\n",
       "      <td>Normal</td>\n",
       "      <td>High</td>\n",
       "      <td>True</td>\n",
       "    </tr>\n",
       "    <tr>\n",
       "      <th>15</th>\n",
       "      <td>16</td>\n",
       "      <td>Low</td>\n",
       "      <td>Normal</td>\n",
       "      <td>High</td>\n",
       "      <td>High</td>\n",
       "      <td>High</td>\n",
       "      <td>Normal</td>\n",
       "      <td>False</td>\n",
       "    </tr>\n",
       "    <tr>\n",
       "      <th>16</th>\n",
       "      <td>17</td>\n",
       "      <td>Normal</td>\n",
       "      <td>Normal</td>\n",
       "      <td>High</td>\n",
       "      <td>High</td>\n",
       "      <td>High</td>\n",
       "      <td>Normal</td>\n",
       "      <td>False</td>\n",
       "    </tr>\n",
       "    <tr>\n",
       "      <th>17</th>\n",
       "      <td>18</td>\n",
       "      <td>High</td>\n",
       "      <td>Low</td>\n",
       "      <td>Low</td>\n",
       "      <td>Normal</td>\n",
       "      <td>Normal</td>\n",
       "      <td>High</td>\n",
       "      <td>True</td>\n",
       "    </tr>\n",
       "    <tr>\n",
       "      <th>18</th>\n",
       "      <td>19</td>\n",
       "      <td>Normal</td>\n",
       "      <td>Normal</td>\n",
       "      <td>Normal</td>\n",
       "      <td>High</td>\n",
       "      <td>Normal</td>\n",
       "      <td>Normal</td>\n",
       "      <td>False</td>\n",
       "    </tr>\n",
       "    <tr>\n",
       "      <th>19</th>\n",
       "      <td>20</td>\n",
       "      <td>Normal</td>\n",
       "      <td>High</td>\n",
       "      <td>Normal</td>\n",
       "      <td>High</td>\n",
       "      <td>Normal</td>\n",
       "      <td>High</td>\n",
       "      <td>True</td>\n",
       "    </tr>\n",
       "    <tr>\n",
       "      <th>20</th>\n",
       "      <td>21</td>\n",
       "      <td>Normal</td>\n",
       "      <td>Low</td>\n",
       "      <td>Normal</td>\n",
       "      <td>High</td>\n",
       "      <td>Normal</td>\n",
       "      <td>High</td>\n",
       "      <td>True</td>\n",
       "    </tr>\n",
       "    <tr>\n",
       "      <th>21</th>\n",
       "      <td>22</td>\n",
       "      <td>Low</td>\n",
       "      <td>High</td>\n",
       "      <td>Normal</td>\n",
       "      <td>High</td>\n",
       "      <td>High</td>\n",
       "      <td>High</td>\n",
       "      <td>True</td>\n",
       "    </tr>\n",
       "    <tr>\n",
       "      <th>22</th>\n",
       "      <td>23</td>\n",
       "      <td>Low</td>\n",
       "      <td>Low</td>\n",
       "      <td>Low</td>\n",
       "      <td>High</td>\n",
       "      <td>High</td>\n",
       "      <td>High</td>\n",
       "      <td>True</td>\n",
       "    </tr>\n",
       "    <tr>\n",
       "      <th>23</th>\n",
       "      <td>24</td>\n",
       "      <td>High</td>\n",
       "      <td>High</td>\n",
       "      <td>Normal</td>\n",
       "      <td>Normal</td>\n",
       "      <td>Normal</td>\n",
       "      <td>Normal</td>\n",
       "      <td>True</td>\n",
       "    </tr>\n",
       "    <tr>\n",
       "      <th>24</th>\n",
       "      <td>25</td>\n",
       "      <td>High</td>\n",
       "      <td>Normal</td>\n",
       "      <td>Normal</td>\n",
       "      <td>Normal</td>\n",
       "      <td>Normal</td>\n",
       "      <td>Normal</td>\n",
       "      <td>False</td>\n",
       "    </tr>\n",
       "  </tbody>\n",
       "</table>\n",
       "</div>"
      ],
      "text/plain": [
       "    no      pc     wbc      mc     ast      bc     ldh  diagnosis\n",
       "0    1     Low     Low     Low    High  Normal  Normal       True\n",
       "1    2     Low     Low  Normal    High  Normal    High       True\n",
       "2    3     Low    High  Normal    High  Normal  Normal      False\n",
       "3    4     Low    High  Normal    High    High  Normal       True\n",
       "4    5     Low  Normal    High    High  Normal  Normal      False\n",
       "5    6     Low  Normal  Normal    High  Normal    High       True\n",
       "6    7  Normal     Low     Low    High  Normal  Normal       True\n",
       "7    8  Normal    High  Normal    High  Normal  Normal      False\n",
       "8    9  Normal    High  Normal    High    High    High       True\n",
       "9   10  Normal  Normal    High    High  Normal  Normal      False\n",
       "10  11  Normal  Normal    High    High  Normal    High       True\n",
       "11  12    High     Low     Low  Normal  Normal  Normal       True\n",
       "12  13    High  Normal    High  Normal  Normal  Normal      False\n",
       "13  14    High  Normal    High  Normal    High    High       True\n",
       "14  15    High    High  Normal  Normal  Normal    High       True\n",
       "15  16     Low  Normal    High    High    High  Normal      False\n",
       "16  17  Normal  Normal    High    High    High  Normal      False\n",
       "17  18    High     Low     Low  Normal  Normal    High       True\n",
       "18  19  Normal  Normal  Normal    High  Normal  Normal      False\n",
       "19  20  Normal    High  Normal    High  Normal    High       True\n",
       "20  21  Normal     Low  Normal    High  Normal    High       True\n",
       "21  22     Low    High  Normal    High    High    High       True\n",
       "22  23     Low     Low     Low    High    High    High       True\n",
       "23  24    High    High  Normal  Normal  Normal  Normal       True\n",
       "24  25    High  Normal  Normal  Normal  Normal  Normal      False"
      ]
     },
     "execution_count": 75,
     "metadata": {},
     "output_type": "execute_result"
    }
   ],
   "source": [
    "data = pd.read_csv('covid (3).csv')\n",
    "data\n"
   ]
  },
  {
   "cell_type": "code",
   "execution_count": 91,
   "id": "a542b367",
   "metadata": {},
   "outputs": [],
   "source": [
    "le = preprocessing.LabelEncoder()\n",
    "pc = le.fit_transform(data['pc'].values)\n",
    "wbc = le.fit_transform(data['wbc'].values)\n",
    "mc = le.fit_transform(data['mc'].values)\n",
    "ast = le.fit_transform(data['ast'].values)\n",
    "bc = le.fit_transform(data['bc'].values)\n",
    "ldh=le.fit_transform(data['ldh'].values)\n",
    "y = le.fit_transform(data['diagnosis'].values)"
   ]
  },
  {
   "cell_type": "code",
   "execution_count": 77,
   "id": "396c7aa9",
   "metadata": {},
   "outputs": [],
   "source": [
    "X = np.array(list(zip(pc, wbc, mc, ast, bc, ldh)))"
   ]
  },
  {
   "cell_type": "code",
   "execution_count": 78,
   "id": "8a7b04a7",
   "metadata": {},
   "outputs": [
    {
     "data": {
      "text/plain": [
       "array([[1, 1, 1, 0, 1, 1],\n",
       "       [1, 1, 2, 0, 1, 0],\n",
       "       [1, 0, 2, 0, 1, 1],\n",
       "       [1, 0, 2, 0, 0, 1],\n",
       "       [1, 2, 0, 0, 1, 1],\n",
       "       [1, 2, 2, 0, 1, 0],\n",
       "       [2, 1, 1, 0, 1, 1],\n",
       "       [2, 0, 2, 0, 1, 1],\n",
       "       [2, 0, 2, 0, 0, 0],\n",
       "       [2, 2, 0, 0, 1, 1],\n",
       "       [2, 2, 0, 0, 1, 0],\n",
       "       [0, 1, 1, 1, 1, 1],\n",
       "       [0, 2, 0, 1, 1, 1],\n",
       "       [0, 2, 0, 1, 0, 0],\n",
       "       [0, 0, 2, 1, 1, 0],\n",
       "       [1, 2, 0, 0, 0, 1],\n",
       "       [2, 2, 0, 0, 0, 1],\n",
       "       [0, 1, 1, 1, 1, 0],\n",
       "       [2, 2, 2, 0, 1, 1],\n",
       "       [2, 0, 2, 0, 1, 0],\n",
       "       [2, 1, 2, 0, 1, 0],\n",
       "       [1, 0, 2, 0, 0, 0],\n",
       "       [1, 1, 1, 0, 0, 0],\n",
       "       [0, 0, 2, 1, 1, 1],\n",
       "       [0, 2, 2, 1, 1, 1]])"
      ]
     },
     "execution_count": 78,
     "metadata": {},
     "output_type": "execute_result"
    }
   ],
   "source": [
    "X"
   ]
  },
  {
   "cell_type": "code",
   "execution_count": 79,
   "id": "adf8fffe",
   "metadata": {},
   "outputs": [],
   "source": [
    "xtrain, xtest, ytrain, ytest = train_test_split(X, y, test_size=0.25)\n",
    "naivee = MultinomialNB()\n",
    "naivee.fit(xtrain, ytrain)\n",
    "ypred = naivee.predict(xtest)\n"
   ]
  },
  {
   "cell_type": "code",
   "execution_count": 80,
   "id": "479e3766",
   "metadata": {},
   "outputs": [
    {
     "name": "stdout",
     "output_type": "stream",
     "text": [
      "Accuracy:  0.5714285714285714\n",
      "Classification Report: \n",
      "               precision    recall  f1-score   support\n",
      "\n",
      "           0       0.33      0.50      0.40         2\n",
      "           1       0.75      0.60      0.67         5\n",
      "\n",
      "    accuracy                           0.57         7\n",
      "   macro avg       0.54      0.55      0.53         7\n",
      "weighted avg       0.63      0.57      0.59         7\n",
      "\n"
     ]
    }
   ],
   "source": [
    "print(\"Accuracy: \", accuracy_score(ytest, ypred))\n",
    "print(\"Classification Report: \\n\", classification_report(ytest, ypred))"
   ]
  },
  {
   "cell_type": "code",
   "execution_count": 81,
   "id": "c5304e5f",
   "metadata": {},
   "outputs": [],
   "source": [
    "lr_probs = naivee.predict_proba(xtest)"
   ]
  },
  {
   "cell_type": "code",
   "execution_count": 82,
   "id": "761c5047",
   "metadata": {},
   "outputs": [
    {
     "data": {
      "text/plain": [
       "numpy.ndarray"
      ]
     },
     "execution_count": 82,
     "metadata": {},
     "output_type": "execute_result"
    }
   ],
   "source": [
    "type(lr_probs)"
   ]
  },
  {
   "cell_type": "code",
   "execution_count": 83,
   "id": "d0c64682",
   "metadata": {},
   "outputs": [
    {
     "data": {
      "text/plain": [
       "array([[0.44223503, 0.55776497],\n",
       "       [0.5757212 , 0.4242788 ],\n",
       "       [0.13414656, 0.86585344],\n",
       "       [0.7062691 , 0.2937309 ],\n",
       "       [0.32746996, 0.67253004],\n",
       "       [0.19618177, 0.80381823],\n",
       "       [0.50103342, 0.49896658]])"
      ]
     },
     "execution_count": 83,
     "metadata": {},
     "output_type": "execute_result"
    }
   ],
   "source": [
    "lr_probs"
   ]
  },
  {
   "cell_type": "code",
   "execution_count": 84,
   "id": "878b11b5",
   "metadata": {},
   "outputs": [],
   "source": [
    "lr_probs = lr_probs[:, 1]"
   ]
  },
  {
   "cell_type": "code",
   "execution_count": 85,
   "id": "d9e0f12c",
   "metadata": {},
   "outputs": [
    {
     "data": {
      "text/plain": [
       "array([0.55776497, 0.4242788 , 0.86585344, 0.2937309 , 0.67253004,\n",
       "       0.80381823, 0.49896658])"
      ]
     },
     "execution_count": 85,
     "metadata": {},
     "output_type": "execute_result"
    }
   ],
   "source": [
    "lr_probs"
   ]
  },
  {
   "cell_type": "code",
   "execution_count": 86,
   "id": "d5708b84",
   "metadata": {},
   "outputs": [],
   "source": [
    "lr_fpr, lr_tpr, _=roc_curve(ytest, lr_probs)"
   ]
  },
  {
   "cell_type": "code",
   "execution_count": 87,
   "id": "f44dc057",
   "metadata": {},
   "outputs": [
    {
     "data": {
      "text/plain": [
       "array([0. , 0. , 0. , 0.5, 0.5, 1. ])"
      ]
     },
     "execution_count": 87,
     "metadata": {},
     "output_type": "execute_result"
    }
   ],
   "source": [
    "lr_fpr"
   ]
  },
  {
   "cell_type": "code",
   "execution_count": 88,
   "id": "80f7161d",
   "metadata": {},
   "outputs": [
    {
     "data": {
      "text/plain": [
       "array([0. , 0.2, 0.6, 0.6, 1. , 1. ])"
      ]
     },
     "execution_count": 88,
     "metadata": {},
     "output_type": "execute_result"
    }
   ],
   "source": [
    "lr_tpr"
   ]
  },
  {
   "cell_type": "code",
   "execution_count": 89,
   "id": "d0fa042e",
   "metadata": {},
   "outputs": [
    {
     "data": {
      "image/png": "[encoded data removed]",
      "text/plain": [
       "<Figure size 640x480 with 1 Axes>"
      ]
     },
     "metadata": {},
     "output_type": "display_data"
    }
   ],
   "source": [
    "from matplotlib import pyplot\n",
    "pyplot.plot(lr_fpr, lr_tpr, marker='.', label='Naive Bayes Classifier')\n",
    "# axis labels\n",
    "pyplot.xlabel('False Positive Rate')\n",
    "pyplot.ylabel('True Positive Rate')\n",
    "# show the legend\n",
    "pyplot.legend()\n",
    "# show the plot\n",
    "pyplot.show()"
   ]
  },
  {
   "cell_type": "code",
   "execution_count": null,
   "id": "f0ace66f-3ff9-471f-b9e5-d233aa7da843",
   "metadata": {},
   "outputs": [],
   "source": []
  }
 ],
 "metadata": {
  "kernelspec": {
   "display_name": "Python 3 (ipykernel)",
   "language": "python",
   "name": "python3"
  },
  "language_info": {
   "codemirror_mode": {
    "name": "ipython",
    "version": 3
   },
   "file_extension": ".py",
   "mimetype": "text/x-python",
   "name": "python",
   "nbconvert_exporter": "python",
   "pygments_lexer": "ipython3",
   "version": "3.12.0"
  }
 },
 "nbformat": 4,
 "nbformat_minor": 5
}
