{
 "cells": [
  {
   "cell_type": "code",
   "execution_count": 7,
   "id": "81ac2562-ea30-4a4e-95ef-1820bf05495e",
   "metadata": {},
   "outputs": [
    {
     "data": {
      "text/plain": [
       "118.43636363636364"
      ]
     },
     "execution_count": 7,
     "metadata": {},
     "output_type": "execute_result"
    }
   ],
   "source": [
    "l = [115.3, 195.5, 120.5, 110.2, 90.4, 105.6, 110.9, 116.3, 122.3, 125.4,90.4]\n",
    "def mean(l):\n",
    "  mean=sum(l)/len(l)\n",
    "  return mean\n",
    "mean(l)"
   ]
  },
  {
   "cell_type": "code",
   "execution_count": 8,
   "id": "538c5a1d-61d5-4b24-86e1-26d9549ebefa",
   "metadata": {},
   "outputs": [],
   "source": [
    "l.sort()"
   ]
  },
  {
   "cell_type": "code",
   "execution_count": 9,
   "id": "4e1fbd0d-b338-4814-9c1b-0375efb256ee",
   "metadata": {},
   "outputs": [],
   "source": [
    "n=len(l)"
   ]
  },
  {
   "cell_type": "code",
   "execution_count": 10,
   "id": "38ad0b09-8905-4c61-84dc-788b90f7fcad",
   "metadata": {},
   "outputs": [
    {
     "name": "stdout",
     "output_type": "stream",
     "text": [
      "Median is: 115.3\n"
     ]
    }
   ],
   "source": [
    "if  n% 2 == 0:\n",
    "    median1 = l[n//2]\n",
    "    median2 = l[n//2 - 1]\n",
    "    median = (median1 + median2)/2\n",
    "else:\n",
    "    median = l[n//2]\n",
    "print(\"Median is: \" + str(median))"
   ]
  },
  {
   "cell_type": "code",
   "execution_count": 11,
   "id": "d81f5fe4-c3d8-4f65-a772-90e8a973ac0f",
   "metadata": {},
   "outputs": [
    {
     "name": "stdout",
     "output_type": "stream",
     "text": [
      "90.4\n"
     ]
    }
   ],
   "source": [
    "d ={}\n",
    "for i in l:\n",
    "  if i in d:\n",
    "    d[i] = d[i] + 1\n",
    "  else:\n",
    "    d[i]=1\n",
    "\n",
    "max = 0\n",
    "for i in d:\n",
    "  if d[i]>max:\n",
    "    max = d[i]\n",
    "    ans =i\n",
    "print(ans)"
   ]
  },
  {
   "cell_type": "code",
   "execution_count": 12,
   "id": "7aea166f-dd69-49b1-a5a7-f72dd52b8b6b",
   "metadata": {},
   "outputs": [
    {
     "data": {
      "text/plain": [
       "716.5786776859503"
      ]
     },
     "execution_count": 12,
     "metadata": {},
     "output_type": "execute_result"
    }
   ],
   "source": [
    "def var(l):\n",
    "  x = mean(l)\n",
    "  sum=0\n",
    "  for i in l:\n",
    "    sum += (i - x) ** 2\n",
    "  return sum/len(l)\n",
    "var(l)"
   ]
  },
  {
   "cell_type": "code",
   "execution_count": 13,
   "id": "fca2fee3-4b83-4ed5-bf09-d5357290318d",
   "metadata": {},
   "outputs": [
    {
     "data": {
      "text/plain": [
       "26.76898723683715"
      ]
     },
     "execution_count": 13,
     "metadata": {},
     "output_type": "execute_result"
    }
   ],
   "source": [
    "def sd(l):\n",
    "  temp = var(l)\n",
    "  return temp ** 0.5\n",
    "sd(l)"
   ]
  },
  {
   "cell_type": "code",
   "execution_count": 14,
   "id": "4565860e-e50c-46d9-ad47-dc82c31f9479",
   "metadata": {},
   "outputs": [
    {
     "name": "stdout",
     "output_type": "stream",
     "text": [
      "0.0\n",
      "0.0\n",
      "0.14462416745956222\n",
      "0.18839200761179828\n",
      "0.1950523311132255\n",
      "0.23691722169362506\n",
      "0.24643196955280677\n",
      "0.2863939105613701\n",
      "0.3035204567078972\n",
      "0.3330161750713606\n",
      "1.0\n"
     ]
    }
   ],
   "source": [
    "min = l[0]\n",
    "max = l[0]\n",
    "for i in l:\n",
    "  if min > i:\n",
    "    min =i\n",
    "  elif max < i:\n",
    "    max =i\n",
    "for i in l:\n",
    "  print((i - min)/(max - min))"
   ]
  },
  {
   "cell_type": "code",
   "execution_count": 15,
   "id": "ecc179c8-a45f-46ca-af9f-365bbe8be686",
   "metadata": {},
   "outputs": [
    {
     "name": "stdout",
     "output_type": "stream",
     "text": [
      "-1.047344951391453\n",
      "-1.047344951391453\n",
      "-0.4795236936980326\n",
      "-0.3076830499223918\n",
      "-0.2815333867391421\n",
      "-0.11716407530157322\n",
      "-0.07980741361121658\n",
      "0.07709056548828137\n",
      "0.1443325565309232\n",
      "0.2601382077710291\n",
      "2.8788401922650286\n"
     ]
    }
   ],
   "source": [
    "def std(l):\n",
    "  for i in l:\n",
    "    print((i - mean(l))/sd(l))\n",
    "std(l)"
   ]
  },
  {
   "cell_type": "code",
   "execution_count": null,
   "id": "ead02999-3926-4e99-ac00-413a0c1f157d",
   "metadata": {},
   "outputs": [],
   "source": []
  }
 ],
 "metadata": {
  "kernelspec": {
   "display_name": "Python 3 (ipykernel)",
   "language": "python",
   "name": "python3"
  },
  "language_info": {
   "codemirror_mode": {
    "name": "ipython",
    "version": 3
   },
   "file_extension": ".py",
   "mimetype": "text/x-python",
   "name": "python",
   "nbconvert_exporter": "python",
   "pygments_lexer": "ipython3",
   "version": "3.12.0"
  }
 },
 "nbformat": 4,
 "nbformat_minor": 5
}
